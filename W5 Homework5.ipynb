{
  "cells": [
    {
      "cell_type": "markdown",
      "metadata": {
        "id": "7ywSRtNI4s5h"
      },
      "source": [
        "# 0.) Import the Credit Card Fraud Data From CCLE"
      ]
    },
    {
      "cell_type": "code",
      "execution_count": 7,
      "metadata": {
        "id": "nsG1QV154GYZ"
      },
      "outputs": [],
      "source": [
        "import pandas as pd\n",
        "#from google.colab import drive\n",
        "import matplotlib.pyplot as plt\n",
        "import numpy as np\n",
        "import warnings\n",
        "warnings.filterwarnings('ignore')"
      ]
    },
    {
      "cell_type": "code",
      "execution_count": 5,
      "metadata": {
        "colab": {
          "base_uri": "https://localhost:8080/"
        },
        "id": "Iku0T8Ou4Lcu",
        "outputId": "c533459a-89a7-4d6f-978b-ea2295ace9e7"
      },
      "outputs": [
        {
          "name": "stdout",
          "output_type": "stream",
          "text": [
            "<class 'pandas.core.frame.DataFrame'>\n",
            "RangeIndex: 555719 entries, 0 to 555718\n",
            "Data columns (total 23 columns):\n",
            " #   Column                 Non-Null Count   Dtype  \n",
            "---  ------                 --------------   -----  \n",
            " 0   Unnamed: 0             555719 non-null  int64  \n",
            " 1   trans_date_trans_time  555719 non-null  object \n",
            " 2   cc_num                 555719 non-null  int64  \n",
            " 3   merchant               555719 non-null  object \n",
            " 4   category               555719 non-null  object \n",
            " 5   amt                    555719 non-null  float64\n",
            " 6   first                  555719 non-null  object \n",
            " 7   last                   555719 non-null  object \n",
            " 8   gender                 555719 non-null  object \n",
            " 9   street                 555719 non-null  object \n",
            " 10  city                   555719 non-null  object \n",
            " 11  state                  555719 non-null  object \n",
            " 12  zip                    555719 non-null  int64  \n",
            " 13  lat                    555719 non-null  float64\n",
            " 14  long                   555719 non-null  float64\n",
            " 15  city_pop               555719 non-null  int64  \n",
            " 16  job                    555719 non-null  object \n",
            " 17  dob                    555719 non-null  object \n",
            " 18  trans_num              555719 non-null  object \n",
            " 19  unix_time              555719 non-null  int64  \n",
            " 20  merch_lat              555719 non-null  float64\n",
            " 21  merch_long             555719 non-null  float64\n",
            " 22  is_fraud               555719 non-null  int64  \n",
            "dtypes: float64(5), int64(6), object(12)\n",
            "memory usage: 97.5+ MB\n",
            "None\n"
          ]
        },
        {
          "data": {
            "text/html": [
              "<div>\n",
              "<style scoped>\n",
              "    .dataframe tbody tr th:only-of-type {\n",
              "        vertical-align: middle;\n",
              "    }\n",
              "\n",
              "    .dataframe tbody tr th {\n",
              "        vertical-align: top;\n",
              "    }\n",
              "\n",
              "    .dataframe thead th {\n",
              "        text-align: right;\n",
              "    }\n",
              "</style>\n",
              "<table border=\"1\" class=\"dataframe\">\n",
              "  <thead>\n",
              "    <tr style=\"text-align: right;\">\n",
              "      <th></th>\n",
              "      <th>Unnamed: 0</th>\n",
              "      <th>trans_date_trans_time</th>\n",
              "      <th>cc_num</th>\n",
              "      <th>merchant</th>\n",
              "      <th>category</th>\n",
              "      <th>amt</th>\n",
              "      <th>first</th>\n",
              "      <th>last</th>\n",
              "      <th>gender</th>\n",
              "      <th>street</th>\n",
              "      <th>...</th>\n",
              "      <th>lat</th>\n",
              "      <th>long</th>\n",
              "      <th>city_pop</th>\n",
              "      <th>job</th>\n",
              "      <th>dob</th>\n",
              "      <th>trans_num</th>\n",
              "      <th>unix_time</th>\n",
              "      <th>merch_lat</th>\n",
              "      <th>merch_long</th>\n",
              "      <th>is_fraud</th>\n",
              "    </tr>\n",
              "  </thead>\n",
              "  <tbody>\n",
              "    <tr>\n",
              "      <th>0</th>\n",
              "      <td>0</td>\n",
              "      <td>2020-06-21 12:14:25</td>\n",
              "      <td>2291163933867244</td>\n",
              "      <td>fraud_Kirlin and Sons</td>\n",
              "      <td>personal_care</td>\n",
              "      <td>2.86</td>\n",
              "      <td>Jeff</td>\n",
              "      <td>Elliott</td>\n",
              "      <td>M</td>\n",
              "      <td>351 Darlene Green</td>\n",
              "      <td>...</td>\n",
              "      <td>33.9659</td>\n",
              "      <td>-80.9355</td>\n",
              "      <td>333497</td>\n",
              "      <td>Mechanical engineer</td>\n",
              "      <td>1968-03-19</td>\n",
              "      <td>2da90c7d74bd46a0caf3777415b3ebd3</td>\n",
              "      <td>1371816865</td>\n",
              "      <td>33.986391</td>\n",
              "      <td>-81.200714</td>\n",
              "      <td>0</td>\n",
              "    </tr>\n",
              "    <tr>\n",
              "      <th>1</th>\n",
              "      <td>1</td>\n",
              "      <td>2020-06-21 12:14:33</td>\n",
              "      <td>3573030041201292</td>\n",
              "      <td>fraud_Sporer-Keebler</td>\n",
              "      <td>personal_care</td>\n",
              "      <td>29.84</td>\n",
              "      <td>Joanne</td>\n",
              "      <td>Williams</td>\n",
              "      <td>F</td>\n",
              "      <td>3638 Marsh Union</td>\n",
              "      <td>...</td>\n",
              "      <td>40.3207</td>\n",
              "      <td>-110.4360</td>\n",
              "      <td>302</td>\n",
              "      <td>Sales professional, IT</td>\n",
              "      <td>1990-01-17</td>\n",
              "      <td>324cc204407e99f51b0d6ca0055005e7</td>\n",
              "      <td>1371816873</td>\n",
              "      <td>39.450498</td>\n",
              "      <td>-109.960431</td>\n",
              "      <td>0</td>\n",
              "    </tr>\n",
              "    <tr>\n",
              "      <th>2</th>\n",
              "      <td>2</td>\n",
              "      <td>2020-06-21 12:14:53</td>\n",
              "      <td>3598215285024754</td>\n",
              "      <td>fraud_Swaniawski, Nitzsche and Welch</td>\n",
              "      <td>health_fitness</td>\n",
              "      <td>41.28</td>\n",
              "      <td>Ashley</td>\n",
              "      <td>Lopez</td>\n",
              "      <td>F</td>\n",
              "      <td>9333 Valentine Point</td>\n",
              "      <td>...</td>\n",
              "      <td>40.6729</td>\n",
              "      <td>-73.5365</td>\n",
              "      <td>34496</td>\n",
              "      <td>Librarian, public</td>\n",
              "      <td>1970-10-21</td>\n",
              "      <td>c81755dbbbea9d5c77f094348a7579be</td>\n",
              "      <td>1371816893</td>\n",
              "      <td>40.495810</td>\n",
              "      <td>-74.196111</td>\n",
              "      <td>0</td>\n",
              "    </tr>\n",
              "    <tr>\n",
              "      <th>3</th>\n",
              "      <td>3</td>\n",
              "      <td>2020-06-21 12:15:15</td>\n",
              "      <td>3591919803438423</td>\n",
              "      <td>fraud_Haley Group</td>\n",
              "      <td>misc_pos</td>\n",
              "      <td>60.05</td>\n",
              "      <td>Brian</td>\n",
              "      <td>Williams</td>\n",
              "      <td>M</td>\n",
              "      <td>32941 Krystal Mill Apt. 552</td>\n",
              "      <td>...</td>\n",
              "      <td>28.5697</td>\n",
              "      <td>-80.8191</td>\n",
              "      <td>54767</td>\n",
              "      <td>Set designer</td>\n",
              "      <td>1987-07-25</td>\n",
              "      <td>2159175b9efe66dc301f149d3d5abf8c</td>\n",
              "      <td>1371816915</td>\n",
              "      <td>28.812398</td>\n",
              "      <td>-80.883061</td>\n",
              "      <td>0</td>\n",
              "    </tr>\n",
              "    <tr>\n",
              "      <th>4</th>\n",
              "      <td>4</td>\n",
              "      <td>2020-06-21 12:15:17</td>\n",
              "      <td>3526826139003047</td>\n",
              "      <td>fraud_Johnston-Casper</td>\n",
              "      <td>travel</td>\n",
              "      <td>3.19</td>\n",
              "      <td>Nathan</td>\n",
              "      <td>Massey</td>\n",
              "      <td>M</td>\n",
              "      <td>5783 Evan Roads Apt. 465</td>\n",
              "      <td>...</td>\n",
              "      <td>44.2529</td>\n",
              "      <td>-85.0170</td>\n",
              "      <td>1126</td>\n",
              "      <td>Furniture designer</td>\n",
              "      <td>1955-07-06</td>\n",
              "      <td>57ff021bd3f328f8738bb535c302a31b</td>\n",
              "      <td>1371816917</td>\n",
              "      <td>44.959148</td>\n",
              "      <td>-85.884734</td>\n",
              "      <td>0</td>\n",
              "    </tr>\n",
              "  </tbody>\n",
              "</table>\n",
              "<p>5 rows × 23 columns</p>\n",
              "</div>"
            ],
            "text/plain": [
              "   Unnamed: 0 trans_date_trans_time            cc_num  \\\n",
              "0           0   2020-06-21 12:14:25  2291163933867244   \n",
              "1           1   2020-06-21 12:14:33  3573030041201292   \n",
              "2           2   2020-06-21 12:14:53  3598215285024754   \n",
              "3           3   2020-06-21 12:15:15  3591919803438423   \n",
              "4           4   2020-06-21 12:15:17  3526826139003047   \n",
              "\n",
              "                               merchant        category    amt   first  \\\n",
              "0                 fraud_Kirlin and Sons   personal_care   2.86    Jeff   \n",
              "1                  fraud_Sporer-Keebler   personal_care  29.84  Joanne   \n",
              "2  fraud_Swaniawski, Nitzsche and Welch  health_fitness  41.28  Ashley   \n",
              "3                     fraud_Haley Group        misc_pos  60.05   Brian   \n",
              "4                 fraud_Johnston-Casper          travel   3.19  Nathan   \n",
              "\n",
              "       last gender                       street  ...      lat      long  \\\n",
              "0   Elliott      M            351 Darlene Green  ...  33.9659  -80.9355   \n",
              "1  Williams      F             3638 Marsh Union  ...  40.3207 -110.4360   \n",
              "2     Lopez      F         9333 Valentine Point  ...  40.6729  -73.5365   \n",
              "3  Williams      M  32941 Krystal Mill Apt. 552  ...  28.5697  -80.8191   \n",
              "4    Massey      M     5783 Evan Roads Apt. 465  ...  44.2529  -85.0170   \n",
              "\n",
              "   city_pop                     job         dob  \\\n",
              "0    333497     Mechanical engineer  1968-03-19   \n",
              "1       302  Sales professional, IT  1990-01-17   \n",
              "2     34496       Librarian, public  1970-10-21   \n",
              "3     54767            Set designer  1987-07-25   \n",
              "4      1126      Furniture designer  1955-07-06   \n",
              "\n",
              "                          trans_num   unix_time  merch_lat  merch_long  \\\n",
              "0  2da90c7d74bd46a0caf3777415b3ebd3  1371816865  33.986391  -81.200714   \n",
              "1  324cc204407e99f51b0d6ca0055005e7  1371816873  39.450498 -109.960431   \n",
              "2  c81755dbbbea9d5c77f094348a7579be  1371816893  40.495810  -74.196111   \n",
              "3  2159175b9efe66dc301f149d3d5abf8c  1371816915  28.812398  -80.883061   \n",
              "4  57ff021bd3f328f8738bb535c302a31b  1371816917  44.959148  -85.884734   \n",
              "\n",
              "   is_fraud  \n",
              "0         0  \n",
              "1         0  \n",
              "2         0  \n",
              "3         0  \n",
              "4         0  \n",
              "\n",
              "[5 rows x 23 columns]"
            ]
          },
          "execution_count": 5,
          "metadata": {},
          "output_type": "execute_result"
        }
      ],
      "source": [
        "df = pd.read_csv('W5_fraudTest.csv')\n",
        "print(df.info())\n",
        "df.head()"
      ]
    },
    {
      "cell_type": "code",
      "execution_count": 8,
      "metadata": {
        "colab": {
          "base_uri": "https://localhost:8080/"
        },
        "id": "2_YuJa4IFKda",
        "outputId": "7e387d76-2dd6-472c-d598-5994ef2b9fda"
      },
      "outputs": [],
      "source": [
        "df_select = df[[\"trans_date_trans_time\", \"category\", \"amt\", \"city_pop\", \"is_fraud\"]]\n",
        "\n",
        "df_select[\"trans_date_trans_time\"] = pd.to_datetime(df_select[\"trans_date_trans_time\"])\n",
        "df_select[\"time_var\"] = [i.second for i in df_select[\"trans_date_trans_time\"]]\n",
        "\n",
        "X = pd.get_dummies(df_select, [\"category\"]).drop([\"trans_date_trans_time\", \"is_fraud\"], axis = 1)\n",
        "y = df[\"is_fraud\"]"
      ]
    },
    {
      "cell_type": "code",
      "execution_count": 11,
      "metadata": {},
      "outputs": [
        {
          "name": "stdout",
          "output_type": "stream",
          "text": [
            "<class 'pandas.core.frame.DataFrame'>\n",
            "RangeIndex: 555719 entries, 0 to 555718\n",
            "Data columns (total 17 columns):\n",
            " #   Column                   Non-Null Count   Dtype  \n",
            "---  ------                   --------------   -----  \n",
            " 0   amt                      555719 non-null  float64\n",
            " 1   city_pop                 555719 non-null  int64  \n",
            " 2   time_var                 555719 non-null  int64  \n",
            " 3   category_entertainment   555719 non-null  bool   \n",
            " 4   category_food_dining     555719 non-null  bool   \n",
            " 5   category_gas_transport   555719 non-null  bool   \n",
            " 6   category_grocery_net     555719 non-null  bool   \n",
            " 7   category_grocery_pos     555719 non-null  bool   \n",
            " 8   category_health_fitness  555719 non-null  bool   \n",
            " 9   category_home            555719 non-null  bool   \n",
            " 10  category_kids_pets       555719 non-null  bool   \n",
            " 11  category_misc_net        555719 non-null  bool   \n",
            " 12  category_misc_pos        555719 non-null  bool   \n",
            " 13  category_personal_care   555719 non-null  bool   \n",
            " 14  category_shopping_net    555719 non-null  bool   \n",
            " 15  category_shopping_pos    555719 non-null  bool   \n",
            " 16  category_travel          555719 non-null  bool   \n",
            "dtypes: bool(14), float64(1), int64(2)\n",
            "memory usage: 20.1 MB\n"
          ]
        }
      ],
      "source": [
        "X.info()"
      ]
    },
    {
      "cell_type": "markdown",
      "metadata": {
        "id": "8VsnpGe9-B3p"
      },
      "source": [
        "# 1.) Use scikit learn preprocessing to split the data into 70/30 in out of sample"
      ]
    },
    {
      "cell_type": "code",
      "execution_count": 9,
      "metadata": {
        "id": "1tpCDMW198ym"
      },
      "outputs": [],
      "source": [
        "from sklearn.model_selection import train_test_split\n",
        "from sklearn.preprocessing import StandardScaler"
      ]
    },
    {
      "cell_type": "code",
      "execution_count": 15,
      "metadata": {
        "id": "lRO5zGoXbSJE"
      },
      "outputs": [],
      "source": [
        "X_train, X_test, y_train, y_test = train_test_split(X, y, test_size = 0.3, random_state = 42)"
      ]
    },
    {
      "cell_type": "code",
      "execution_count": 16,
      "metadata": {
        "id": "JvCzIdgO983i"
      },
      "outputs": [],
      "source": [
        "X_test, X_holdout, y_test, y_holdout = train_test_split(X_test, y_test, test_size = .5)"
      ]
    },
    {
      "cell_type": "code",
      "execution_count": 17,
      "metadata": {
        "id": "f7APv9N3986a"
      },
      "outputs": [],
      "source": [
        "scaler = StandardScaler()\n",
        "X_train = scaler.fit_transform(X_train)\n",
        "X_test = scaler.transform(X_test)\n",
        "X_holdout = scaler.transform(X_holdout)"
      ]
    },
    {
      "cell_type": "markdown",
      "metadata": {
        "id": "lbkpNPyN-Gnk"
      },
      "source": [
        "# 2.) Make three sets of training data (Oversample, Undersample and SMOTE)"
      ]
    },
    {
      "cell_type": "code",
      "execution_count": 18,
      "metadata": {
        "id": "gTTVciVkqopH"
      },
      "outputs": [],
      "source": [
        "from imblearn.over_sampling import RandomOverSampler\n",
        "from imblearn.under_sampling import RandomUnderSampler\n",
        "from imblearn.over_sampling import SMOTE"
      ]
    },
    {
      "cell_type": "code",
      "execution_count": 19,
      "metadata": {
        "id": "gG88uxbiV4lZ"
      },
      "outputs": [],
      "source": [
        "ros = RandomOverSampler()\n",
        "over_X, over_y = ros.fit_resample(X_train, y_train)\n",
        "\n",
        "rus = RandomUnderSampler()\n",
        "under_X, under_y = rus.fit_resample(X_train, y_train)\n",
        "\n",
        "smote = SMOTE()\n",
        "smote_X, smote_y = smote.fit_resample(X_train, y_train)"
      ]
    },
    {
      "cell_type": "markdown",
      "metadata": {
        "id": "bIJx2jvD-KEI"
      },
      "source": [
        "# 3.) Train three logistic regression models"
      ]
    },
    {
      "cell_type": "code",
      "execution_count": 20,
      "metadata": {
        "id": "QhVMq92zvz4s"
      },
      "outputs": [],
      "source": [
        "from sklearn.linear_model import LogisticRegression"
      ]
    },
    {
      "cell_type": "code",
      "execution_count": 21,
      "metadata": {
        "id": "NvwomEoaGAgN"
      },
      "outputs": [],
      "source": [
        "over_log = LogisticRegression().fit(over_X, over_y)\n",
        "\n",
        "under_log = LogisticRegression().fit(under_X, under_y)\n",
        "\n",
        "smote_log = LogisticRegression().fit(smote_X, smote_y)"
      ]
    },
    {
      "cell_type": "markdown",
      "metadata": {
        "id": "PeurmqI4-OoC"
      },
      "source": [
        "# 4.) Test the three models"
      ]
    },
    {
      "cell_type": "code",
      "execution_count": 24,
      "metadata": {},
      "outputs": [
        {
          "name": "stdout",
          "output_type": "stream",
          "text": [
            "   over_log_score  under_log_score  smote_log_score\n",
            "0        0.922359         0.925898         0.920943\n"
          ]
        },
        {
          "data": {
            "image/png": "[encoded data removed]",
            "text/plain": [
              "<Figure size 640x480 with 1 Axes>"
            ]
          },
          "metadata": {},
          "output_type": "display_data"
        }
      ],
      "source": [
        "over_log_score = over_log.score(X_test, y_test)\n",
        "under_log_score = under_log.score(X_test, y_test)\n",
        "smote_log_score = smote_log.score(X_test, y_test)\n",
        "print(pd.DataFrame({\"over_log_score\": over_log_score, \"under_log_score\": under_log_score, \"smote_log_score\": smote_log_score}, index = [0]))\n",
        "\n",
        "from matplotlib import pyplot as plt\n",
        "plt.bar([\"over_log_score\", \"under_log_score\", \"smote_log_score\"], np.array([over_log_score, under_log_score, smote_log_score])-0.9)\n",
        "plt.show()"
      ]
    },
    {
      "cell_type": "markdown",
      "metadata": {
        "id": "6isBwtmL-R4p"
      },
      "source": [
        "# 5.) Which performed best in Out of Sample metrics?\n",
        "\n",
        "The smote performs the best. hehe."
      ]
    },
    {
      "cell_type": "code",
      "execution_count": null,
      "metadata": {
        "id": "9fwAhujT-RN4"
      },
      "outputs": [],
      "source": [
        "# Sensitivity here in credit fraud is more important as seen from last class"
      ]
    },
    {
      "cell_type": "code",
      "execution_count": 25,
      "metadata": {
        "id": "POIuy3rH-RQv"
      },
      "outputs": [],
      "source": [
        "from sklearn.metrics import confusion_matrix"
      ]
    },
    {
      "cell_type": "code",
      "execution_count": 26,
      "metadata": {
        "id": "e42UoedMK6eq"
      },
      "outputs": [],
      "source": [
        "y_true = y_test"
      ]
    },
    {
      "cell_type": "code",
      "execution_count": 29,
      "metadata": {
        "colab": {
          "base_uri": "https://localhost:8080/"
        },
        "id": "2mc_RyrHK6hX",
        "outputId": "408bb243-3c83-4337-97f5-21f57718360f"
      },
      "outputs": [
        {
          "data": {
            "text/plain": [
              "array([[76648,  6398],\n",
              "       [   74,   238]])"
            ]
          },
          "execution_count": 29,
          "metadata": {},
          "output_type": "execute_result"
        }
      ],
      "source": [
        "y_pred = over_log.predict(X_test)\n",
        "cm = confusion_matrix(y_true, y_pred)\n",
        "cm"
      ]
    },
    {
      "cell_type": "code",
      "execution_count": 30,
      "metadata": {
        "colab": {
          "base_uri": "https://localhost:8080/"
        },
        "id": "xT6gNjLuK6jS",
        "outputId": "2ed847ca-c7a5-414b-d45a-2e7acadfc9d5"
      },
      "outputs": [
        {
          "name": "stdout",
          "output_type": "stream",
          "text": [
            "Over Sample Sensitivity :  0.7628205128205128\n"
          ]
        }
      ],
      "source": [
        "print(\"Over Sample Sensitivity : \", cm[1,1] /( cm[1,0] + cm[1,1]))"
      ]
    },
    {
      "cell_type": "code",
      "execution_count": 31,
      "metadata": {
        "colab": {
          "base_uri": "https://localhost:8080/"
        },
        "id": "FTHhw9P1K6lY",
        "outputId": "cadf0e8b-2b60-4ac8-fa81-275d3fab8c6f"
      },
      "outputs": [
        {
          "data": {
            "text/plain": [
              "array([[76946,  6100],\n",
              "       [   77,   235]])"
            ]
          },
          "execution_count": 31,
          "metadata": {},
          "output_type": "execute_result"
        }
      ],
      "source": [
        "y_pred = under_log.predict(X_test)\n",
        "cm = confusion_matrix(y_true, y_pred)\n",
        "cm"
      ]
    },
    {
      "cell_type": "code",
      "execution_count": 32,
      "metadata": {
        "colab": {
          "base_uri": "https://localhost:8080/"
        },
        "id": "g14fgEkT-RTV",
        "outputId": "72b0902b-c2f5-46c7-c49c-83126c75c94f"
      },
      "outputs": [
        {
          "name": "stdout",
          "output_type": "stream",
          "text": [
            "Under Sample Sensitivity :  0.7532051282051282\n"
          ]
        }
      ],
      "source": [
        "print(\"Under Sample Sensitivity : \", cm[1,1] /( cm[1,0] + cm[1,1]))"
      ]
    },
    {
      "cell_type": "code",
      "execution_count": 33,
      "metadata": {
        "colab": {
          "base_uri": "https://localhost:8080/"
        },
        "id": "_iZ217d8LAR0",
        "outputId": "6d498a8f-bdd9-445d-97cc-6e4eec82574b"
      },
      "outputs": [
        {
          "data": {
            "text/plain": [
              "array([[76529,  6517],\n",
              "       [   73,   239]])"
            ]
          },
          "execution_count": 33,
          "metadata": {},
          "output_type": "execute_result"
        }
      ],
      "source": [
        "y_pred = smote_log.predict(X_test)\n",
        "cm = confusion_matrix(y_true, y_pred)\n",
        "cm"
      ]
    },
    {
      "cell_type": "code",
      "execution_count": 34,
      "metadata": {
        "colab": {
          "base_uri": "https://localhost:8080/"
        },
        "id": "X5bfByOALAUk",
        "outputId": "a7071ed7-f896-4825-90f4-612a0603697a"
      },
      "outputs": [
        {
          "name": "stdout",
          "output_type": "stream",
          "text": [
            "SMOTE Sample Sensitivity :  0.7660256410256411\n"
          ]
        }
      ],
      "source": [
        "print(\"SMOTE Sample Sensitivity : \", cm[1,1] /( cm[1,0] + cm[1,1]))"
      ]
    },
    {
      "cell_type": "markdown",
      "metadata": {
        "id": "aQa3sanl-XUk"
      },
      "source": [
        "# 6.) Pick two features and plot the two classes before and after SMOTE."
      ]
    },
    {
      "cell_type": "code",
      "execution_count": 37,
      "metadata": {},
      "outputs": [],
      "source": [
        "X_train_df = pd.DataFrame(X_train,columns=X.columns)\n",
        "y_train_df = pd.DataFrame(y_train,columns=[\"is_fraud\"])"
      ]
    },
    {
      "cell_type": "code",
      "execution_count": 39,
      "metadata": {
        "id": "MDSBmS_usbeJ"
      },
      "outputs": [],
      "source": [
        "raw_temp = pd.concat([X_train_df, y_train_df], axis =1)"
      ]
    },
    {
      "cell_type": "code",
      "execution_count": 40,
      "metadata": {
        "id": "9QA-y6HCslBR"
      },
      "outputs": [
        {
          "data": {
            "text/html": [
              "<div>\n",
              "<style scoped>\n",
              "    .dataframe tbody tr th:only-of-type {\n",
              "        vertical-align: middle;\n",
              "    }\n",
              "\n",
              "    .dataframe tbody tr th {\n",
              "        vertical-align: top;\n",
              "    }\n",
              "\n",
              "    .dataframe thead th {\n",
              "        text-align: right;\n",
              "    }\n",
              "</style>\n",
              "<table border=\"1\" class=\"dataframe\">\n",
              "  <thead>\n",
              "    <tr style=\"text-align: right;\">\n",
              "      <th></th>\n",
              "      <th>amt</th>\n",
              "      <th>city_pop</th>\n",
              "      <th>time_var</th>\n",
              "      <th>category_entertainment</th>\n",
              "      <th>category_food_dining</th>\n",
              "      <th>category_gas_transport</th>\n",
              "      <th>category_grocery_net</th>\n",
              "      <th>category_grocery_pos</th>\n",
              "      <th>category_health_fitness</th>\n",
              "      <th>category_home</th>\n",
              "      <th>category_kids_pets</th>\n",
              "      <th>category_misc_net</th>\n",
              "      <th>category_misc_pos</th>\n",
              "      <th>category_personal_care</th>\n",
              "      <th>category_shopping_net</th>\n",
              "      <th>category_shopping_pos</th>\n",
              "      <th>category_travel</th>\n",
              "    </tr>\n",
              "  </thead>\n",
              "  <tbody>\n",
              "    <tr>\n",
              "      <th>0</th>\n",
              "      <td>0.490002</td>\n",
              "      <td>-0.290755</td>\n",
              "      <td>0.491095</td>\n",
              "      <td>-0.278467</td>\n",
              "      <td>-0.275643</td>\n",
              "      <td>-0.336441</td>\n",
              "      <td>-0.190314</td>\n",
              "      <td>-0.322596</td>\n",
              "      <td>-0.265875</td>\n",
              "      <td>-0.322207</td>\n",
              "      <td>-0.310544</td>\n",
              "      <td>-0.227859</td>\n",
              "      <td>-0.258218</td>\n",
              "      <td>-0.275481</td>\n",
              "      <td>-0.284889</td>\n",
              "      <td>3.188526</td>\n",
              "      <td>-0.180265</td>\n",
              "    </tr>\n",
              "    <tr>\n",
              "      <th>1</th>\n",
              "      <td>-0.304952</td>\n",
              "      <td>0.395037</td>\n",
              "      <td>1.589322</td>\n",
              "      <td>-0.278467</td>\n",
              "      <td>-0.275643</td>\n",
              "      <td>-0.336441</td>\n",
              "      <td>-0.190314</td>\n",
              "      <td>-0.322596</td>\n",
              "      <td>-0.265875</td>\n",
              "      <td>3.103590</td>\n",
              "      <td>-0.310544</td>\n",
              "      <td>-0.227859</td>\n",
              "      <td>-0.258218</td>\n",
              "      <td>-0.275481</td>\n",
              "      <td>-0.284889</td>\n",
              "      <td>-0.313625</td>\n",
              "      <td>-0.180265</td>\n",
              "    </tr>\n",
              "    <tr>\n",
              "      <th>2</th>\n",
              "      <td>-0.079515</td>\n",
              "      <td>0.121598</td>\n",
              "      <td>-0.838337</td>\n",
              "      <td>3.591092</td>\n",
              "      <td>-0.275643</td>\n",
              "      <td>-0.336441</td>\n",
              "      <td>-0.190314</td>\n",
              "      <td>-0.322596</td>\n",
              "      <td>-0.265875</td>\n",
              "      <td>-0.322207</td>\n",
              "      <td>-0.310544</td>\n",
              "      <td>-0.227859</td>\n",
              "      <td>-0.258218</td>\n",
              "      <td>-0.275481</td>\n",
              "      <td>-0.284889</td>\n",
              "      <td>-0.313625</td>\n",
              "      <td>-0.180265</td>\n",
              "    </tr>\n",
              "    <tr>\n",
              "      <th>3</th>\n",
              "      <td>0.018307</td>\n",
              "      <td>-0.277929</td>\n",
              "      <td>0.722301</td>\n",
              "      <td>-0.278467</td>\n",
              "      <td>-0.275643</td>\n",
              "      <td>2.972286</td>\n",
              "      <td>-0.190314</td>\n",
              "      <td>-0.322596</td>\n",
              "      <td>-0.265875</td>\n",
              "      <td>-0.322207</td>\n",
              "      <td>-0.310544</td>\n",
              "      <td>-0.227859</td>\n",
              "      <td>-0.258218</td>\n",
              "      <td>-0.275481</td>\n",
              "      <td>-0.284889</td>\n",
              "      <td>-0.313625</td>\n",
              "      <td>-0.180265</td>\n",
              "    </tr>\n",
              "    <tr>\n",
              "      <th>4</th>\n",
              "      <td>-0.083967</td>\n",
              "      <td>0.151744</td>\n",
              "      <td>-1.069543</td>\n",
              "      <td>-0.278467</td>\n",
              "      <td>-0.275643</td>\n",
              "      <td>-0.336441</td>\n",
              "      <td>-0.190314</td>\n",
              "      <td>-0.322596</td>\n",
              "      <td>-0.265875</td>\n",
              "      <td>-0.322207</td>\n",
              "      <td>-0.310544</td>\n",
              "      <td>-0.227859</td>\n",
              "      <td>3.872702</td>\n",
              "      <td>-0.275481</td>\n",
              "      <td>-0.284889</td>\n",
              "      <td>-0.313625</td>\n",
              "      <td>-0.180265</td>\n",
              "    </tr>\n",
              "    <tr>\n",
              "      <th>...</th>\n",
              "      <td>...</td>\n",
              "      <td>...</td>\n",
              "      <td>...</td>\n",
              "      <td>...</td>\n",
              "      <td>...</td>\n",
              "      <td>...</td>\n",
              "      <td>...</td>\n",
              "      <td>...</td>\n",
              "      <td>...</td>\n",
              "      <td>...</td>\n",
              "      <td>...</td>\n",
              "      <td>...</td>\n",
              "      <td>...</td>\n",
              "      <td>...</td>\n",
              "      <td>...</td>\n",
              "      <td>...</td>\n",
              "      <td>...</td>\n",
              "    </tr>\n",
              "    <tr>\n",
              "      <th>388998</th>\n",
              "      <td>0.229536</td>\n",
              "      <td>-0.286496</td>\n",
              "      <td>1.011308</td>\n",
              "      <td>-0.278467</td>\n",
              "      <td>-0.275643</td>\n",
              "      <td>-0.336441</td>\n",
              "      <td>-0.190314</td>\n",
              "      <td>3.099851</td>\n",
              "      <td>-0.265875</td>\n",
              "      <td>-0.322207</td>\n",
              "      <td>-0.310544</td>\n",
              "      <td>-0.227859</td>\n",
              "      <td>-0.258218</td>\n",
              "      <td>-0.275481</td>\n",
              "      <td>-0.284889</td>\n",
              "      <td>-0.313625</td>\n",
              "      <td>-0.180265</td>\n",
              "    </tr>\n",
              "    <tr>\n",
              "      <th>388999</th>\n",
              "      <td>0.132106</td>\n",
              "      <td>-0.291116</td>\n",
              "      <td>0.086485</td>\n",
              "      <td>-0.278467</td>\n",
              "      <td>-0.275643</td>\n",
              "      <td>-0.336441</td>\n",
              "      <td>-0.190314</td>\n",
              "      <td>-0.322596</td>\n",
              "      <td>-0.265875</td>\n",
              "      <td>3.103590</td>\n",
              "      <td>-0.310544</td>\n",
              "      <td>-0.227859</td>\n",
              "      <td>-0.258218</td>\n",
              "      <td>-0.275481</td>\n",
              "      <td>-0.284889</td>\n",
              "      <td>-0.313625</td>\n",
              "      <td>-0.180265</td>\n",
              "    </tr>\n",
              "    <tr>\n",
              "      <th>389000</th>\n",
              "      <td>-0.419863</td>\n",
              "      <td>0.015523</td>\n",
              "      <td>-0.838337</td>\n",
              "      <td>-0.278467</td>\n",
              "      <td>-0.275643</td>\n",
              "      <td>-0.336441</td>\n",
              "      <td>-0.190314</td>\n",
              "      <td>-0.322596</td>\n",
              "      <td>-0.265875</td>\n",
              "      <td>-0.322207</td>\n",
              "      <td>-0.310544</td>\n",
              "      <td>4.388687</td>\n",
              "      <td>-0.258218</td>\n",
              "      <td>-0.275481</td>\n",
              "      <td>-0.284889</td>\n",
              "      <td>-0.313625</td>\n",
              "      <td>-0.180265</td>\n",
              "    </tr>\n",
              "    <tr>\n",
              "      <th>389001</th>\n",
              "      <td>0.869441</td>\n",
              "      <td>-0.281793</td>\n",
              "      <td>-0.144720</td>\n",
              "      <td>-0.278467</td>\n",
              "      <td>-0.275643</td>\n",
              "      <td>-0.336441</td>\n",
              "      <td>-0.190314</td>\n",
              "      <td>3.099851</td>\n",
              "      <td>-0.265875</td>\n",
              "      <td>-0.322207</td>\n",
              "      <td>-0.310544</td>\n",
              "      <td>-0.227859</td>\n",
              "      <td>-0.258218</td>\n",
              "      <td>-0.275481</td>\n",
              "      <td>-0.284889</td>\n",
              "      <td>-0.313625</td>\n",
              "      <td>-0.180265</td>\n",
              "    </tr>\n",
              "    <tr>\n",
              "      <th>389002</th>\n",
              "      <td>-0.015937</td>\n",
              "      <td>3.824358</td>\n",
              "      <td>-0.260323</td>\n",
              "      <td>-0.278467</td>\n",
              "      <td>-0.275643</td>\n",
              "      <td>-0.336441</td>\n",
              "      <td>-0.190314</td>\n",
              "      <td>-0.322596</td>\n",
              "      <td>-0.265875</td>\n",
              "      <td>-0.322207</td>\n",
              "      <td>-0.310544</td>\n",
              "      <td>-0.227859</td>\n",
              "      <td>3.872702</td>\n",
              "      <td>-0.275481</td>\n",
              "      <td>-0.284889</td>\n",
              "      <td>-0.313625</td>\n",
              "      <td>-0.180265</td>\n",
              "    </tr>\n",
              "  </tbody>\n",
              "</table>\n",
              "<p>389003 rows × 17 columns</p>\n",
              "</div>"
            ],
            "text/plain": [
              "             amt  city_pop  time_var  category_entertainment  \\\n",
              "0       0.490002 -0.290755  0.491095               -0.278467   \n",
              "1      -0.304952  0.395037  1.589322               -0.278467   \n",
              "2      -0.079515  0.121598 -0.838337                3.591092   \n",
              "3       0.018307 -0.277929  0.722301               -0.278467   \n",
              "4      -0.083967  0.151744 -1.069543               -0.278467   \n",
              "...          ...       ...       ...                     ...   \n",
              "388998  0.229536 -0.286496  1.011308               -0.278467   \n",
              "388999  0.132106 -0.291116  0.086485               -0.278467   \n",
              "389000 -0.419863  0.015523 -0.838337               -0.278467   \n",
              "389001  0.869441 -0.281793 -0.144720               -0.278467   \n",
              "389002 -0.015937  3.824358 -0.260323               -0.278467   \n",
              "\n",
              "        category_food_dining  category_gas_transport  category_grocery_net  \\\n",
              "0                  -0.275643               -0.336441             -0.190314   \n",
              "1                  -0.275643               -0.336441             -0.190314   \n",
              "2                  -0.275643               -0.336441             -0.190314   \n",
              "3                  -0.275643                2.972286             -0.190314   \n",
              "4                  -0.275643               -0.336441             -0.190314   \n",
              "...                      ...                     ...                   ...   \n",
              "388998             -0.275643               -0.336441             -0.190314   \n",
              "388999             -0.275643               -0.336441             -0.190314   \n",
              "389000             -0.275643               -0.336441             -0.190314   \n",
              "389001             -0.275643               -0.336441             -0.190314   \n",
              "389002             -0.275643               -0.336441             -0.190314   \n",
              "\n",
              "        category_grocery_pos  category_health_fitness  category_home  \\\n",
              "0                  -0.322596                -0.265875      -0.322207   \n",
              "1                  -0.322596                -0.265875       3.103590   \n",
              "2                  -0.322596                -0.265875      -0.322207   \n",
              "3                  -0.322596                -0.265875      -0.322207   \n",
              "4                  -0.322596                -0.265875      -0.322207   \n",
              "...                      ...                      ...            ...   \n",
              "388998              3.099851                -0.265875      -0.322207   \n",
              "388999             -0.322596                -0.265875       3.103590   \n",
              "389000             -0.322596                -0.265875      -0.322207   \n",
              "389001              3.099851                -0.265875      -0.322207   \n",
              "389002             -0.322596                -0.265875      -0.322207   \n",
              "\n",
              "        category_kids_pets  category_misc_net  category_misc_pos  \\\n",
              "0                -0.310544          -0.227859          -0.258218   \n",
              "1                -0.310544          -0.227859          -0.258218   \n",
              "2                -0.310544          -0.227859          -0.258218   \n",
              "3                -0.310544          -0.227859          -0.258218   \n",
              "4                -0.310544          -0.227859           3.872702   \n",
              "...                    ...                ...                ...   \n",
              "388998           -0.310544          -0.227859          -0.258218   \n",
              "388999           -0.310544          -0.227859          -0.258218   \n",
              "389000           -0.310544           4.388687          -0.258218   \n",
              "389001           -0.310544          -0.227859          -0.258218   \n",
              "389002           -0.310544          -0.227859           3.872702   \n",
              "\n",
              "        category_personal_care  category_shopping_net  category_shopping_pos  \\\n",
              "0                    -0.275481              -0.284889               3.188526   \n",
              "1                    -0.275481              -0.284889              -0.313625   \n",
              "2                    -0.275481              -0.284889              -0.313625   \n",
              "3                    -0.275481              -0.284889              -0.313625   \n",
              "4                    -0.275481              -0.284889              -0.313625   \n",
              "...                        ...                    ...                    ...   \n",
              "388998               -0.275481              -0.284889              -0.313625   \n",
              "388999               -0.275481              -0.284889              -0.313625   \n",
              "389000               -0.275481              -0.284889              -0.313625   \n",
              "389001               -0.275481              -0.284889              -0.313625   \n",
              "389002               -0.275481              -0.284889              -0.313625   \n",
              "\n",
              "        category_travel  \n",
              "0             -0.180265  \n",
              "1             -0.180265  \n",
              "2             -0.180265  \n",
              "3             -0.180265  \n",
              "4             -0.180265  \n",
              "...                 ...  \n",
              "388998        -0.180265  \n",
              "388999        -0.180265  \n",
              "389000        -0.180265  \n",
              "389001        -0.180265  \n",
              "389002        -0.180265  \n",
              "\n",
              "[389003 rows x 17 columns]"
            ]
          },
          "execution_count": 40,
          "metadata": {},
          "output_type": "execute_result"
        }
      ],
      "source": [
        "X_train_df"
      ]
    },
    {
      "cell_type": "code",
      "execution_count": 44,
      "metadata": {
        "colab": {
          "base_uri": "https://localhost:8080/",
          "height": 465
        },
        "id": "vVaHpqf9wHj7",
        "outputId": "105a15c4-f26c-4210-f97c-4b4c3112344e"
      },
      "outputs": [
        {
          "data": {
            "image/png": "[encoded data removed]",
            "text/plain": [
              "<Figure size 640x480 with 1 Axes>"
            ]
          },
          "metadata": {},
          "output_type": "display_data"
        }
      ],
      "source": [
        "#plt.scatter(raw_temp[raw_temp[\"is_fraud\"] == 0][\"amt\"], raw_temp[raw_temp[\"is_fraud\"] == 0][\"city_pop\"])\n",
        "\n",
        "plt.scatter(raw_temp[raw_temp[\"is_fraud\"] == 1][\"amt\"],\n",
        "            raw_temp[raw_temp[\"is_fraud\"] == 1][\"city_pop\"])\n",
        "plt.legend([\"Fraud\", \"Not Fraud\"])\n",
        "plt.xlabel(\"Amount\")\n",
        "plt.ylabel(\"Population\")\n",
        "\n",
        "plt.show()"
      ]
    },
    {
      "cell_type": "code",
      "execution_count": 45,
      "metadata": {},
      "outputs": [],
      "source": [
        "smote_X_df = pd.DataFrame(smote_X,columns=X.columns)\n",
        "smote_y_df = pd.DataFrame(smote_y,columns=[\"is_fraud\"])\n",
        "raw_temp = pd.concat([smote_X_df, smote_y_df], axis =1)"
      ]
    },
    {
      "cell_type": "code",
      "execution_count": 48,
      "metadata": {
        "id": "YphNDj12aFhP"
      },
      "outputs": [],
      "source": [
        "\n",
        "raw_temp = pd.concat([smote_X_df, smote_y_df], axis =1)\n"
      ]
    },
    {
      "cell_type": "code",
      "execution_count": 50,
      "metadata": {
        "colab": {
          "base_uri": "https://localhost:8080/",
          "height": 520
        },
        "id": "G-MUv66T-RZE",
        "outputId": "a845731d-5a52-4480-d5eb-8dd58de8c3ca"
      },
      "outputs": [
        {
          "data": {
            "image/png": "[encoded data removed]",
            "text/plain": [
              "<Figure size 640x480 with 1 Axes>"
            ]
          },
          "metadata": {},
          "output_type": "display_data"
        }
      ],
      "source": [
        "#plt.scatter(raw_temp[raw_temp[\"is_fraud\"] == 0][\"amt\"], raw_temp[raw_temp[\"is_fraud\"] == 0][\"city_pop\"])\n",
        "\n",
        "plt.scatter(raw_temp[raw_temp[\"is_fraud\"] == 1][\"amt\"], raw_temp[raw_temp[\"is_fraud\"] == 1][\"city_pop\"])\n",
        "plt.legend([ \"Fraud\", \"Not Fraud\"])\n",
        "plt.xlabel(\"Amount\")\n",
        "plt.ylabel(\"Population\")\n",
        "\n",
        "plt.show()"
      ]
    },
    {
      "cell_type": "markdown",
      "metadata": {
        "id": "wjt1pnzgZcuO"
      },
      "source": [
        "# 7.) We want to compare oversampling, Undersampling and SMOTE across our 3 models (Logistic Regression, Logistic Regression Lasso and Decision Trees).\n",
        "\n",
        "# Make a dataframe that has a dual index and 9 Rows.\n",
        "# Calculate: Sensitivity, Specificity, Precision, Recall and F1 score. for out of sample data.\n",
        "# Notice any patterns across perfomance for this model. Does one totally out perform the others IE. over/under/smote or does a model perform better DT, Lasso, LR?\n",
        "# Choose what you think is the best model and why. test on Holdout"
      ]
    },
    {
      "cell_type": "code",
      "execution_count": 51,
      "metadata": {
        "id": "0tIC3Nd1bx-N"
      },
      "outputs": [],
      "source": [
        "from sklearn.tree import DecisionTreeClassifier\n",
        "from sklearn.metrics import confusion_matrix, precision_score, recall_score, f1_score\n",
        "import pandas as pd"
      ]
    },
    {
      "cell_type": "code",
      "execution_count": 52,
      "metadata": {},
      "outputs": [],
      "source": [
        "resampling_method ={\n",
        "    'over': RandomOverSampler(),\n",
        "    'under':RandomUnderSampler(),\n",
        "    'smote':SMOTE()\n",
        "}\n",
        "model_configs={\n",
        "    'LOG':LogisticRegression(),\n",
        "    'LASSO':LogisticRegression(penalty = 'l1',\n",
        "                              C= 2., solver ='liblinear'),\n",
        "    \"DTREE\": DecisionTreeClassifier()\n",
        "}"
      ]
    },
    {
      "cell_type": "code",
      "execution_count": 53,
      "metadata": {},
      "outputs": [],
      "source": [
        "def calc_perfmetric(y_true, y_pred):\n",
        "    tn,fp,fn,tp = confusion_matrix(y_true, y_pred).ravel()\n",
        "    sensitivity=tp/(tp+fn) \n",
        "    specificity= tn/(tn+fp)\n",
        "    precision = precision_score(y_true, y_pred)\n",
        "    recall = recall_score(y_true, y_pred)\n",
        "    f1 = f1_score(y_true, y_pred)\n",
        "    return(sensitivity, specificity, precision, recall, f1)"
      ]
    },
    {
      "cell_type": "code",
      "execution_count": 54,
      "metadata": {},
      "outputs": [],
      "source": [
        "trained_models = {}\n",
        "results =[]"
      ]
    },
    {
      "cell_type": "code",
      "execution_count": 55,
      "metadata": {},
      "outputs": [],
      "source": [
        "for resample_key, resampler in resampling_method.items():\n",
        "    resample_X, resample_y = resampler.fit_resample(X_train,y_train)\n",
        "   \n",
        "    for model_key, model in model_configs.items():\n",
        "        conbined_key = f'{resample_key}_{model_key}'\n",
        "        \n",
        "        m = model.fit(resample_X, resample_y)\n",
        "        \n",
        "        trained_models[conbined_key] = m\n",
        "        \n",
        "        y_pred = m.predict(X_test)\n",
        "       \n",
        "        sensitivity,specificity,precision,recall,f1 = calc_perfmetric(y_true, y_pred)\n",
        "        \n",
        "        results.append({'Model': conbined_key,\n",
        "                       \"Sensitivity\": sensitivity,\n",
        "                       'specificity':specificity,\n",
        "                       'precision':precision,\n",
        "                       'recall':recall,\n",
        "                       'f1':f1})\n",
        "        \n",
        "        "
      ]
    },
    {
      "cell_type": "code",
      "execution_count": 56,
      "metadata": {},
      "outputs": [],
      "source": [
        "results_df = pd.DataFrame(results)"
      ]
    },
    {
      "cell_type": "code",
      "execution_count": 57,
      "metadata": {},
      "outputs": [
        {
          "data": {
            "text/html": [
              "<div>\n",
              "<style scoped>\n",
              "    .dataframe tbody tr th:only-of-type {\n",
              "        vertical-align: middle;\n",
              "    }\n",
              "\n",
              "    .dataframe tbody tr th {\n",
              "        vertical-align: top;\n",
              "    }\n",
              "\n",
              "    .dataframe thead th {\n",
              "        text-align: right;\n",
              "    }\n",
              "</style>\n",
              "<table border=\"1\" class=\"dataframe\">\n",
              "  <thead>\n",
              "    <tr style=\"text-align: right;\">\n",
              "      <th></th>\n",
              "      <th></th>\n",
              "      <th>Sensitivity</th>\n",
              "      <th>specificity</th>\n",
              "      <th>precision</th>\n",
              "      <th>recall</th>\n",
              "      <th>f1</th>\n",
              "    </tr>\n",
              "    <tr>\n",
              "      <th>resample</th>\n",
              "      <th>model</th>\n",
              "      <th></th>\n",
              "      <th></th>\n",
              "      <th></th>\n",
              "      <th></th>\n",
              "      <th></th>\n",
              "    </tr>\n",
              "  </thead>\n",
              "  <tbody>\n",
              "    <tr>\n",
              "      <th rowspan=\"3\" valign=\"top\">over</th>\n",
              "      <th>LOG</th>\n",
              "      <td>0.762821</td>\n",
              "      <td>0.924524</td>\n",
              "      <td>0.036582</td>\n",
              "      <td>0.762821</td>\n",
              "      <td>0.069815</td>\n",
              "    </tr>\n",
              "    <tr>\n",
              "      <th>LASSO</th>\n",
              "      <td>0.762821</td>\n",
              "      <td>0.924403</td>\n",
              "      <td>0.036525</td>\n",
              "      <td>0.762821</td>\n",
              "      <td>0.069713</td>\n",
              "    </tr>\n",
              "    <tr>\n",
              "      <th>DTREE</th>\n",
              "      <td>0.528846</td>\n",
              "      <td>0.998627</td>\n",
              "      <td>0.591398</td>\n",
              "      <td>0.528846</td>\n",
              "      <td>0.558376</td>\n",
              "    </tr>\n",
              "    <tr>\n",
              "      <th rowspan=\"3\" valign=\"top\">under</th>\n",
              "      <th>LOG</th>\n",
              "      <td>0.762821</td>\n",
              "      <td>0.904426</td>\n",
              "      <td>0.029113</td>\n",
              "      <td>0.762821</td>\n",
              "      <td>0.056086</td>\n",
              "    </tr>\n",
              "    <tr>\n",
              "      <th>LASSO</th>\n",
              "      <td>0.762821</td>\n",
              "      <td>0.904053</td>\n",
              "      <td>0.029003</td>\n",
              "      <td>0.762821</td>\n",
              "      <td>0.055882</td>\n",
              "    </tr>\n",
              "    <tr>\n",
              "      <th>DTREE</th>\n",
              "      <td>0.967949</td>\n",
              "      <td>0.946391</td>\n",
              "      <td>0.063525</td>\n",
              "      <td>0.967949</td>\n",
              "      <td>0.119226</td>\n",
              "    </tr>\n",
              "    <tr>\n",
              "      <th rowspan=\"3\" valign=\"top\">smote</th>\n",
              "      <th>LOG</th>\n",
              "      <td>0.766026</td>\n",
              "      <td>0.923982</td>\n",
              "      <td>0.036477</td>\n",
              "      <td>0.766026</td>\n",
              "      <td>0.069639</td>\n",
              "    </tr>\n",
              "    <tr>\n",
              "      <th>LASSO</th>\n",
              "      <td>0.766026</td>\n",
              "      <td>0.924042</td>\n",
              "      <td>0.036505</td>\n",
              "      <td>0.766026</td>\n",
              "      <td>0.069689</td>\n",
              "    </tr>\n",
              "    <tr>\n",
              "      <th>DTREE</th>\n",
              "      <td>0.669872</td>\n",
              "      <td>0.992980</td>\n",
              "      <td>0.263889</td>\n",
              "      <td>0.669872</td>\n",
              "      <td>0.378623</td>\n",
              "    </tr>\n",
              "  </tbody>\n",
              "</table>\n",
              "</div>"
            ],
            "text/plain": [
              "                Sensitivity  specificity  precision    recall        f1\n",
              "resample model                                                         \n",
              "over     LOG       0.762821     0.924524   0.036582  0.762821  0.069815\n",
              "         LASSO     0.762821     0.924403   0.036525  0.762821  0.069713\n",
              "         DTREE     0.528846     0.998627   0.591398  0.528846  0.558376\n",
              "under    LOG       0.762821     0.904426   0.029113  0.762821  0.056086\n",
              "         LASSO     0.762821     0.904053   0.029003  0.762821  0.055882\n",
              "         DTREE     0.967949     0.946391   0.063525  0.967949  0.119226\n",
              "smote    LOG       0.766026     0.923982   0.036477  0.766026  0.069639\n",
              "         LASSO     0.766026     0.924042   0.036505  0.766026  0.069689\n",
              "         DTREE     0.669872     0.992980   0.263889  0.669872  0.378623"
            ]
          },
          "execution_count": 57,
          "metadata": {},
          "output_type": "execute_result"
        }
      ],
      "source": [
        "#split the model name into two columns\n",
        "results_df[['resample','model']] = results_df['Model'].str.split('_', expand=True)\n",
        "\n",
        "#reset a dual index for dataframe\n",
        "results_df.set_index(['resample','model'], inplace=True)\n",
        "results_df.drop('Model', axis=1, inplace=True)\n",
        "results_df"
      ]
    },
    {
      "cell_type": "code",
      "execution_count": 58,
      "metadata": {},
      "outputs": [
        {
          "data": {
            "text/plain": [
              "Text(0.5, 1.0, 'Performance Metrics')"
            ]
          },
          "execution_count": 58,
          "metadata": {},
          "output_type": "execute_result"
        },
        {
          "data": {
            "image/png": "[encoded data removed]",
            "text/plain": [
              "<Figure size 1000x600 with 1 Axes>"
            ]
          },
          "metadata": {},
          "output_type": "display_data"
        }
      ],
      "source": [
        "results_df_final = results_df\n",
        "results_df_final.plot(kind='bar', figsize=(10,6))\n",
        "plt.title('Performance Metrics')"
      ]
    },
    {
      "cell_type": "markdown",
      "metadata": {},
      "source": [
        "Based on the result, the (under,decision tree) combination will perform the best with highest sensitivity. For the case of the fraud, the sensitivity is more valued than other performance metrics, so this combination is the best choice."
      ]
    },
    {
      "cell_type": "markdown",
      "metadata": {},
      "source": []
    }
  ],
  "metadata": {
    "colab": {
      "provenance": []
    },
    "kernelspec": {
      "display_name": "Python 3",
      "name": "python3"
    },
    "language_info": {
      "codemirror_mode": {
        "name": "ipython",
        "version": 3
      },
      "file_extension": ".py",
      "mimetype": "text/x-python",
      "name": "python",
      "nbconvert_exporter": "python",
      "pygments_lexer": "ipython3",
      "version": "3.11.4"
    }
  },
  "nbformat": 4,
  "nbformat_minor": 0
}
