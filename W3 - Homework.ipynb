{
 "cells": [
  {
   "cell_type": "code",
   "execution_count": 1,
   "id": "1022e4d8",
   "metadata": {},
   "outputs": [],
   "source": [
    "import pandas as pd\n",
    "import numpy as np\n",
    "import matplotlib.pyplot as plt\n",
    "from sklearn.model_selection import train_test_split\n",
    "from pytrends.request import TrendReq\n",
    "from sklearn.preprocessing import MinMaxScaler, StandardScaler\n",
    "from sklearn.linear_model import Lasso\n",
    "from sklearn.model_selection import cross_val_score"
   ]
  },
  {
   "cell_type": "markdown",
   "id": "a98f5070",
   "metadata": {},
   "source": [
    "# 0.) Clean the Apple Data to get a quarterly series of EPS."
   ]
  },
  {
   "cell_type": "code",
   "execution_count": 2,
   "id": "c7f8e883",
   "metadata": {},
   "outputs": [
    {
     "name": "stderr",
     "output_type": "stream",
     "text": [
      "/var/folders/l_/pnhpmj9j5bv0nkj97f4pfm3m0000gn/T/ipykernel_6297/3132197018.py:7: FutureWarning: DataFrame.fillna with 'method' is deprecated and will raise in a future version. Use obj.ffill() or obj.bfill() instead.\n",
      "  df_mt.fillna(method=\"backfill\",inplace=True)\n",
      "/var/folders/l_/pnhpmj9j5bv0nkj97f4pfm3m0000gn/T/ipykernel_6297/3132197018.py:7: SettingWithCopyWarning: \n",
      "A value is trying to be set on a copy of a slice from a DataFrame\n",
      "\n",
      "See the caveats in the documentation: https://pandas.pydata.org/pandas-docs/stable/user_guide/indexing.html#returning-a-view-versus-a-copy\n",
      "  df_mt.fillna(method=\"backfill\",inplace=True)\n",
      "/var/folders/l_/pnhpmj9j5bv0nkj97f4pfm3m0000gn/T/ipykernel_6297/3132197018.py:8: SettingWithCopyWarning: \n",
      "A value is trying to be set on a copy of a slice from a DataFrame\n",
      "\n",
      "See the caveats in the documentation: https://pandas.pydata.org/pandas-docs/stable/user_guide/indexing.html#returning-a-view-versus-a-copy\n",
      "  df_mt.fillna(0,inplace=True)\n",
      "/var/folders/l_/pnhpmj9j5bv0nkj97f4pfm3m0000gn/T/ipykernel_6297/3132197018.py:10: SettingWithCopyWarning: \n",
      "A value is trying to be set on a copy of a slice from a DataFrame\n",
      "\n",
      "See the caveats in the documentation: https://pandas.pydata.org/pandas-docs/stable/user_guide/indexing.html#returning-a-view-versus-a-copy\n",
      "  df_mt.sort_index(inplace=True,ascending=True)\n"
     ]
    }
   ],
   "source": [
    "df = pd.read_csv('W3_AAPL_quarterly_financials.csv', \n",
    "                 sep = \",\", \n",
    "                 index_col = 0)\n",
    "df = df.T\n",
    "df.drop(['ttm'],inplace=True)\n",
    "df_mt = df[['BasicEPS']]\n",
    "df_mt.fillna(method=\"backfill\",inplace=True)\n",
    "df_mt.fillna(0,inplace=True)\n",
    "df_mt.index = pd.to_datetime(df_mt.index)\n",
    "df_mt.sort_index(inplace=True,ascending=True)\n",
    "eps_data = df_mt\n"
   ]
  },
  {
   "cell_type": "markdown",
   "id": "2c1b3d9a",
   "metadata": {},
   "source": [
    "# 1.) Import data. Train, Test, Holdout (80%,15%,5%)"
   ]
  },
  {
   "cell_type": "code",
   "execution_count": 3,
   "id": "0cf724f7",
   "metadata": {},
   "outputs": [],
   "source": [
    "train_eps,test_eps = train_test_split(eps_data,train_size=0.80,test_size=0.10)\n"
   ]
  },
  {
   "cell_type": "markdown",
   "id": "f41c46a9",
   "metadata": {},
   "source": [
    "# 2.) Come up with 6 search terms you think could nowcast earnings. (Different than the ones I used) Add in 3 terms that that you think will not Nowcast earnings. Pull in the gtrends data. Clean it to have a quarterly average."
   ]
  },
  {
   "cell_type": "code",
   "execution_count": 4,
   "id": "e3b72b6a",
   "metadata": {},
   "outputs": [
    {
     "name": "stderr",
     "output_type": "stream",
     "text": [
      "/var/folders/l_/pnhpmj9j5bv0nkj97f4pfm3m0000gn/T/ipykernel_6297/4118444807.py:22: FutureWarning: DataFrame.fillna with 'method' is deprecated and will raise in a future version. Use obj.ffill() or obj.bfill() instead.\n",
      "  df.fillna(method=\"backfill\",inplace=True)\n"
     ]
    }
   ],
   "source": [
    "pytrends = TrendReq(hl='en-US', tz=360)\n",
    "\n",
    "\n",
    "relevant_keywords = ['iphone','Starbucks','sports','MagSafe','Thanksgiving', 'dollar']\n",
    "irrelevant_keywords = ['Uhaul','Bumblebee','Mustang']\n",
    "\n",
    "\n",
    "keywords = relevant_keywords + irrelevant_keywords\n",
    "\n",
    "\n",
    "start_date = '2004-01-01'\n",
    "end_date = '2024-01-01'\n",
    "\n",
    "\n",
    "df = pd.DataFrame()\n",
    "\n",
    "\n",
    "for keyword in keywords:\n",
    "    pytrends.build_payload([keyword], cat=0, timeframe=f'{start_date} {end_date}', geo='', gprop='')\n",
    "    interest_over_time_df = pytrends.interest_over_time()\n",
    "    df[keyword] = interest_over_time_df[keyword]\n",
    "df.fillna(method=\"backfill\",inplace=True)\n"
   ]
  },
  {
   "cell_type": "markdown",
   "id": "73c7abb8",
   "metadata": {},
   "source": [
    "# 3.) Normalize all the X data"
   ]
  },
  {
   "cell_type": "code",
   "execution_count": 5,
   "id": "95a7bb4d",
   "metadata": {},
   "outputs": [
    {
     "data": {
      "text/plain": [
       "'data scale: '"
      ]
     },
     "metadata": {},
     "output_type": "display_data"
    },
    {
     "data": {
      "text/plain": [
       "(79, 9)"
      ]
     },
     "metadata": {},
     "output_type": "display_data"
    },
    {
     "data": {
      "text/plain": [
       "(79, 1)"
      ]
     },
     "metadata": {},
     "output_type": "display_data"
    },
    {
     "data": {
      "text/html": [
       "<div>\n",
       "<style scoped>\n",
       "    .dataframe tbody tr th:only-of-type {\n",
       "        vertical-align: middle;\n",
       "    }\n",
       "\n",
       "    .dataframe tbody tr th {\n",
       "        vertical-align: top;\n",
       "    }\n",
       "\n",
       "    .dataframe thead th {\n",
       "        text-align: right;\n",
       "    }\n",
       "</style>\n",
       "<table border=\"1\" class=\"dataframe\">\n",
       "  <thead>\n",
       "    <tr style=\"text-align: right;\">\n",
       "      <th></th>\n",
       "      <th>iphone</th>\n",
       "      <th>Starbucks</th>\n",
       "      <th>sports</th>\n",
       "      <th>MagSafe</th>\n",
       "      <th>Thanksgiving</th>\n",
       "      <th>dollar</th>\n",
       "      <th>Uhaul</th>\n",
       "      <th>Bumblebee</th>\n",
       "      <th>Mustang</th>\n",
       "    </tr>\n",
       "    <tr>\n",
       "      <th>date</th>\n",
       "      <th></th>\n",
       "      <th></th>\n",
       "      <th></th>\n",
       "      <th></th>\n",
       "      <th></th>\n",
       "      <th></th>\n",
       "      <th></th>\n",
       "      <th></th>\n",
       "      <th></th>\n",
       "    </tr>\n",
       "  </thead>\n",
       "  <tbody>\n",
       "    <tr>\n",
       "      <th>2004-03-31</th>\n",
       "      <td>-1.826957</td>\n",
       "      <td>-1.604503</td>\n",
       "      <td>1.689561</td>\n",
       "      <td>-0.541184</td>\n",
       "      <td>-0.665306</td>\n",
       "      <td>-1.246496</td>\n",
       "      <td>-1.122667</td>\n",
       "      <td>-0.715891</td>\n",
       "      <td>2.897751</td>\n",
       "    </tr>\n",
       "    <tr>\n",
       "      <th>2004-06-30</th>\n",
       "      <td>-1.826957</td>\n",
       "      <td>-1.570419</td>\n",
       "      <td>1.412210</td>\n",
       "      <td>-0.592944</td>\n",
       "      <td>-0.665306</td>\n",
       "      <td>-1.322464</td>\n",
       "      <td>0.476745</td>\n",
       "      <td>-0.617790</td>\n",
       "      <td>2.809985</td>\n",
       "    </tr>\n",
       "    <tr>\n",
       "      <th>2004-09-30</th>\n",
       "      <td>-1.826957</td>\n",
       "      <td>-1.468170</td>\n",
       "      <td>1.446879</td>\n",
       "      <td>-0.592944</td>\n",
       "      <td>-0.495916</td>\n",
       "      <td>-1.360448</td>\n",
       "      <td>0.520565</td>\n",
       "      <td>-0.470638</td>\n",
       "      <td>2.078604</td>\n",
       "    </tr>\n",
       "    <tr>\n",
       "      <th>2004-12-31</th>\n",
       "      <td>-1.826957</td>\n",
       "      <td>-1.314795</td>\n",
       "      <td>1.724230</td>\n",
       "      <td>-0.558438</td>\n",
       "      <td>1.802942</td>\n",
       "      <td>-1.113553</td>\n",
       "      <td>-0.903570</td>\n",
       "      <td>-0.568739</td>\n",
       "      <td>3.336579</td>\n",
       "    </tr>\n",
       "    <tr>\n",
       "      <th>2005-03-31</th>\n",
       "      <td>-1.826957</td>\n",
       "      <td>-1.382961</td>\n",
       "      <td>1.689561</td>\n",
       "      <td>-0.592944</td>\n",
       "      <td>-0.665306</td>\n",
       "      <td>-0.809682</td>\n",
       "      <td>-0.859750</td>\n",
       "      <td>-0.666841</td>\n",
       "      <td>2.927006</td>\n",
       "    </tr>\n",
       "  </tbody>\n",
       "</table>\n",
       "</div>"
      ],
      "text/plain": [
       "              iphone  Starbucks    sports   MagSafe  Thanksgiving    dollar  \\\n",
       "date                                                                          \n",
       "2004-03-31 -1.826957  -1.604503  1.689561 -0.541184     -0.665306 -1.246496   \n",
       "2004-06-30 -1.826957  -1.570419  1.412210 -0.592944     -0.665306 -1.322464   \n",
       "2004-09-30 -1.826957  -1.468170  1.446879 -0.592944     -0.495916 -1.360448   \n",
       "2004-12-31 -1.826957  -1.314795  1.724230 -0.558438      1.802942 -1.113553   \n",
       "2005-03-31 -1.826957  -1.382961  1.689561 -0.592944     -0.665306 -0.809682   \n",
       "\n",
       "               Uhaul  Bumblebee   Mustang  \n",
       "date                                       \n",
       "2004-03-31 -1.122667  -0.715891  2.897751  \n",
       "2004-06-30  0.476745  -0.617790  2.809985  \n",
       "2004-09-30  0.520565  -0.470638  2.078604  \n",
       "2004-12-31 -0.903570  -0.568739  3.336579  \n",
       "2005-03-31 -0.859750  -0.666841  2.927006  "
      ]
     },
     "metadata": {},
     "output_type": "display_data"
    }
   ],
   "source": [
    "eps_data = eps_data.astype(float)\n",
    "eps_data = eps_data.resample(\"Q\").mean()[\"2004-01-01\":]\n",
    "df = df.resample('Q').mean()[:\"2023-9-30\"]\n",
    "display(\"data scale: \",df.shape,eps_data.shape)\n",
    "scalar = StandardScaler()\n",
    "\n",
    "X_std = scalar.fit_transform(df)\n",
    "display(pd.DataFrame(X_std,index=df.index,columns=df.columns).head())\n",
    "#y = scalar.fit_transform(eps_data)\n",
    "y = eps_data.values"
   ]
  },
  {
   "cell_type": "markdown",
   "id": "da43d5ef",
   "metadata": {},
   "source": [
    "# 4.) Run a Lasso with lambda of .5. Plot a bar chart."
   ]
  },
  {
   "cell_type": "code",
   "execution_count": 6,
   "id": "b7ff06aa",
   "metadata": {},
   "outputs": [
    {
     "data": {
      "image/png": "[encoded data removed]",
      "text/plain": [
       "<Figure size 640x480 with 1 Axes>"
      ]
     },
     "metadata": {},
     "output_type": "display_data"
    },
    {
     "name": "stdout",
     "output_type": "stream",
     "text": [
      "Lasso regression score: 0.05  0.9148583637209775\n",
      "                  coef\n",
      "iphone        0.000000\n",
      "Starbucks     0.266853\n",
      "sports       -0.000000\n",
      "MagSafe       0.223226\n",
      "Thanksgiving  0.016832\n",
      "dollar        0.000000\n",
      "Uhaul        -0.000000\n",
      "Bumblebee     0.000000\n",
      "Mustang      -0.000000\n"
     ]
    }
   ],
   "source": [
    "def run_lasso_regression(X, y, alpha):\n",
    "    lasso = Lasso(alpha=alpha)\n",
    "    lasso.fit(X, y)\n",
    "    return lasso\n",
    "alpha = 0.05\n",
    "reg = run_lasso_regression(X_std,y,alpha)\n",
    "plt.bar(range(len(reg.coef_)),\n",
    "    reg.coef_,tick_label=df.columns,color= \"blue\")\n",
    "plt.axhline(0, color='red', linestyle=\"--\",linewidth=3)\n",
    "plt.title(\"Lasso Regression Coefficients at alpha = {} \".format(alpha))\n",
    "plt.xlabel(\"keywords\")\n",
    "plt.xticks(rotation=45)\n",
    "plt.show()\n",
    "reg.fit(X_std,y)\n",
    "print(\"Lasso regression score: {} \".format(alpha),reg.score(X_std,y))\n",
    "print(pd.DataFrame(reg.coef_,index=df.columns,columns=[\"coef\"]))"
   ]
  },
  {
   "cell_type": "markdown",
   "id": "e130a2be",
   "metadata": {},
   "source": [
    "# 5.) Do these coefficient magnitudes make sense?"
   ]
  },
  {
   "cell_type": "markdown",
   "id": "0798b232",
   "metadata": {},
   "source": [
    "Yes, the coefficients of the irrelevant words are close to zero, and the majority of the relevant words has a coefficient different from zero."
   ]
  },
  {
   "cell_type": "markdown",
   "id": "3a2bd7d7",
   "metadata": {},
   "source": [
    "# 6.) Run a for loop looking at 10 different Lambdas and plot the coefficient magnitude for each."
   ]
  },
  {
   "cell_type": "code",
   "execution_count": 7,
   "id": "1f115bee",
   "metadata": {},
   "outputs": [
    {
     "name": "stderr",
     "output_type": "stream",
     "text": [
      "/Library/Frameworks/Python.framework/Versions/3.11/lib/python3.11/site-packages/sklearn/base.py:1351: UserWarning: With alpha=0, this algorithm does not converge well. You are advised to use the LinearRegression estimator\n",
      "  return fit_method(estimator, *args, **kwargs)\n",
      "/Library/Frameworks/Python.framework/Versions/3.11/lib/python3.11/site-packages/sklearn/linear_model/_coordinate_descent.py:678: UserWarning: Coordinate descent with no regularization may lead to unexpected results and is discouraged.\n",
      "  model = cd_fast.enet_coordinate_descent(\n",
      "/Library/Frameworks/Python.framework/Versions/3.11/lib/python3.11/site-packages/sklearn/linear_model/_coordinate_descent.py:678: ConvergenceWarning: Objective did not converge. You might want to increase the number of iterations, check the scale of the features or consider increasing regularisation. Duality gap: 6.229e-01, tolerance: 2.062e-03 Linear regression models with null weight for the l1 regularization term are more efficiently fitted using one of the solvers implemented in sklearn.linear_model.Ridge/RidgeCV instead.\n",
      "  model = cd_fast.enet_coordinate_descent(\n"
     ]
    },
    {
     "data": {
      "text/html": [
       "<div>\n",
       "<style scoped>\n",
       "    .dataframe tbody tr th:only-of-type {\n",
       "        vertical-align: middle;\n",
       "    }\n",
       "\n",
       "    .dataframe tbody tr th {\n",
       "        vertical-align: top;\n",
       "    }\n",
       "\n",
       "    .dataframe thead th {\n",
       "        text-align: right;\n",
       "    }\n",
       "</style>\n",
       "<table border=\"1\" class=\"dataframe\">\n",
       "  <thead>\n",
       "    <tr style=\"text-align: right;\">\n",
       "      <th></th>\n",
       "      <th>score</th>\n",
       "    </tr>\n",
       "  </thead>\n",
       "  <tbody>\n",
       "    <tr>\n",
       "      <th>0.00</th>\n",
       "      <td>0.939586</td>\n",
       "    </tr>\n",
       "    <tr>\n",
       "      <th>0.01</th>\n",
       "      <td>0.933933</td>\n",
       "    </tr>\n",
       "    <tr>\n",
       "      <th>0.05</th>\n",
       "      <td>0.914858</td>\n",
       "    </tr>\n",
       "    <tr>\n",
       "      <th>0.10</th>\n",
       "      <td>0.871033</td>\n",
       "    </tr>\n",
       "    <tr>\n",
       "      <th>0.20</th>\n",
       "      <td>0.722337</td>\n",
       "    </tr>\n",
       "    <tr>\n",
       "      <th>0.50</th>\n",
       "      <td>0.0</td>\n",
       "    </tr>\n",
       "    <tr>\n",
       "      <th>0.80</th>\n",
       "      <td>0.0</td>\n",
       "    </tr>\n",
       "    <tr>\n",
       "      <th>1.00</th>\n",
       "      <td>0.0</td>\n",
       "    </tr>\n",
       "    <tr>\n",
       "      <th>5.00</th>\n",
       "      <td>0.0</td>\n",
       "    </tr>\n",
       "    <tr>\n",
       "      <th>10.00</th>\n",
       "      <td>0.0</td>\n",
       "    </tr>\n",
       "  </tbody>\n",
       "</table>\n",
       "</div>"
      ],
      "text/plain": [
       "          score\n",
       "0.00   0.939586\n",
       "0.01   0.933933\n",
       "0.05   0.914858\n",
       "0.10   0.871033\n",
       "0.20   0.722337\n",
       "0.50        0.0\n",
       "0.80        0.0\n",
       "1.00        0.0\n",
       "5.00        0.0\n",
       "10.00       0.0"
      ]
     },
     "metadata": {},
     "output_type": "display_data"
    },
    {
     "name": "stdout",
     "output_type": "stream",
     "text": [
      "best lambda:  0.0\n"
     ]
    },
    {
     "data": {
      "image/png": "[encoded data removed]",
      "text/plain": [
       "<Figure size 640x480 with 1 Axes>"
      ]
     },
     "metadata": {},
     "output_type": "display_data"
    }
   ],
   "source": [
    "lambdas = [0,0.01,0.05,0.1,0.2,0.5,0.8,1,5,10]\n",
    "\n",
    "scores = pd.DataFrame(columns=[\"score\"], index = lambdas)\n",
    "for l in lambdas:\n",
    "    reg = run_lasso_regression(X_std,y,l)\n",
    "    scores.loc[l] = reg.score(X_std,y)\n",
    "\n",
    "plt.plot(scores.index,scores[\"score\"],color=\"blue\")\n",
    "plt.title(\"Lasso Regression Score vs Alpha\")\n",
    "plt.xlabel(\"lambda\")\n",
    "plt.ylabel(\"Lasso regresiion score\")\n",
    "display(scores)\n",
    "print(\"best lambda: \",scores[scores[\"score\"] == scores[\"score\"].max()].index.values[0])\n"
   ]
  },
  {
   "cell_type": "markdown",
   "id": "17b28626",
   "metadata": {},
   "source": [
    "# 7.) Run a cross validation. What is your ideal lambda?"
   ]
  },
  {
   "cell_type": "code",
   "execution_count": 8,
   "id": "9fc5cca1",
   "metadata": {},
   "outputs": [
    {
     "name": "stderr",
     "output_type": "stream",
     "text": [
      "/Library/Frameworks/Python.framework/Versions/3.11/lib/python3.11/site-packages/sklearn/base.py:1351: UserWarning: With alpha=0, this algorithm does not converge well. You are advised to use the LinearRegression estimator\n",
      "  return fit_method(estimator, *args, **kwargs)\n",
      "/Library/Frameworks/Python.framework/Versions/3.11/lib/python3.11/site-packages/sklearn/linear_model/_coordinate_descent.py:678: UserWarning: Coordinate descent with no regularization may lead to unexpected results and is discouraged.\n",
      "  model = cd_fast.enet_coordinate_descent(\n",
      "/Library/Frameworks/Python.framework/Versions/3.11/lib/python3.11/site-packages/sklearn/linear_model/_coordinate_descent.py:678: ConvergenceWarning: Objective did not converge. You might want to increase the number of iterations, check the scale of the features or consider increasing regularisation. Duality gap: 5.275e-01, tolerance: 1.570e-03 Linear regression models with null weight for the l1 regularization term are more efficiently fitted using one of the solvers implemented in sklearn.linear_model.Ridge/RidgeCV instead.\n",
      "  model = cd_fast.enet_coordinate_descent(\n",
      "/Library/Frameworks/Python.framework/Versions/3.11/lib/python3.11/site-packages/sklearn/base.py:1351: UserWarning: With alpha=0, this algorithm does not converge well. You are advised to use the LinearRegression estimator\n",
      "  return fit_method(estimator, *args, **kwargs)\n",
      "/Library/Frameworks/Python.framework/Versions/3.11/lib/python3.11/site-packages/sklearn/linear_model/_coordinate_descent.py:678: UserWarning: Coordinate descent with no regularization may lead to unexpected results and is discouraged.\n",
      "  model = cd_fast.enet_coordinate_descent(\n",
      "/Library/Frameworks/Python.framework/Versions/3.11/lib/python3.11/site-packages/sklearn/linear_model/_coordinate_descent.py:678: ConvergenceWarning: Objective did not converge. You might want to increase the number of iterations, check the scale of the features or consider increasing regularisation. Duality gap: 5.931e-01, tolerance: 1.768e-03 Linear regression models with null weight for the l1 regularization term are more efficiently fitted using one of the solvers implemented in sklearn.linear_model.Ridge/RidgeCV instead.\n",
      "  model = cd_fast.enet_coordinate_descent(\n",
      "/Library/Frameworks/Python.framework/Versions/3.11/lib/python3.11/site-packages/sklearn/base.py:1351: UserWarning: With alpha=0, this algorithm does not converge well. You are advised to use the LinearRegression estimator\n",
      "  return fit_method(estimator, *args, **kwargs)\n",
      "/Library/Frameworks/Python.framework/Versions/3.11/lib/python3.11/site-packages/sklearn/linear_model/_coordinate_descent.py:678: UserWarning: Coordinate descent with no regularization may lead to unexpected results and is discouraged.\n",
      "  model = cd_fast.enet_coordinate_descent(\n",
      "/Library/Frameworks/Python.framework/Versions/3.11/lib/python3.11/site-packages/sklearn/linear_model/_coordinate_descent.py:678: ConvergenceWarning: Objective did not converge. You might want to increase the number of iterations, check the scale of the features or consider increasing regularisation. Duality gap: 5.300e-01, tolerance: 2.015e-03 Linear regression models with null weight for the l1 regularization term are more efficiently fitted using one of the solvers implemented in sklearn.linear_model.Ridge/RidgeCV instead.\n",
      "  model = cd_fast.enet_coordinate_descent(\n",
      "/Library/Frameworks/Python.framework/Versions/3.11/lib/python3.11/site-packages/sklearn/base.py:1351: UserWarning: With alpha=0, this algorithm does not converge well. You are advised to use the LinearRegression estimator\n",
      "  return fit_method(estimator, *args, **kwargs)\n",
      "/Library/Frameworks/Python.framework/Versions/3.11/lib/python3.11/site-packages/sklearn/linear_model/_coordinate_descent.py:678: UserWarning: Coordinate descent with no regularization may lead to unexpected results and is discouraged.\n",
      "  model = cd_fast.enet_coordinate_descent(\n",
      "/Library/Frameworks/Python.framework/Versions/3.11/lib/python3.11/site-packages/sklearn/linear_model/_coordinate_descent.py:678: ConvergenceWarning: Objective did not converge. You might want to increase the number of iterations, check the scale of the features or consider increasing regularisation. Duality gap: 3.735e-01, tolerance: 1.916e-03 Linear regression models with null weight for the l1 regularization term are more efficiently fitted using one of the solvers implemented in sklearn.linear_model.Ridge/RidgeCV instead.\n",
      "  model = cd_fast.enet_coordinate_descent(\n",
      "/Library/Frameworks/Python.framework/Versions/3.11/lib/python3.11/site-packages/sklearn/base.py:1351: UserWarning: With alpha=0, this algorithm does not converge well. You are advised to use the LinearRegression estimator\n",
      "  return fit_method(estimator, *args, **kwargs)\n",
      "/Library/Frameworks/Python.framework/Versions/3.11/lib/python3.11/site-packages/sklearn/linear_model/_coordinate_descent.py:678: UserWarning: Coordinate descent with no regularization may lead to unexpected results and is discouraged.\n",
      "  model = cd_fast.enet_coordinate_descent(\n",
      "/Library/Frameworks/Python.framework/Versions/3.11/lib/python3.11/site-packages/sklearn/linear_model/_coordinate_descent.py:678: ConvergenceWarning: Objective did not converge. You might want to increase the number of iterations, check the scale of the features or consider increasing regularisation. Duality gap: 2.908e-01, tolerance: 5.790e-04 Linear regression models with null weight for the l1 regularization term are more efficiently fitted using one of the solvers implemented in sklearn.linear_model.Ridge/RidgeCV instead.\n",
      "  model = cd_fast.enet_coordinate_descent(\n"
     ]
    },
    {
     "data": {
      "text/html": [
       "<div>\n",
       "<style scoped>\n",
       "    .dataframe tbody tr th:only-of-type {\n",
       "        vertical-align: middle;\n",
       "    }\n",
       "\n",
       "    .dataframe tbody tr th {\n",
       "        vertical-align: top;\n",
       "    }\n",
       "\n",
       "    .dataframe thead th {\n",
       "        text-align: right;\n",
       "    }\n",
       "</style>\n",
       "<table border=\"1\" class=\"dataframe\">\n",
       "  <thead>\n",
       "    <tr style=\"text-align: right;\">\n",
       "      <th></th>\n",
       "      <th>score1</th>\n",
       "      <th>score2</th>\n",
       "      <th>score3</th>\n",
       "      <th>score4</th>\n",
       "      <th>score5</th>\n",
       "      <th>mean</th>\n",
       "      <th>std</th>\n",
       "    </tr>\n",
       "  </thead>\n",
       "  <tbody>\n",
       "    <tr>\n",
       "      <th>0</th>\n",
       "      <td>-100.003005</td>\n",
       "      <td>0.606151</td>\n",
       "      <td>0.408133</td>\n",
       "      <td>0.318791</td>\n",
       "      <td>-17.325170</td>\n",
       "      <td>-23.199020</td>\n",
       "      <td>39.013909</td>\n",
       "    </tr>\n",
       "    <tr>\n",
       "      <th>0.01</th>\n",
       "      <td>-38.332157</td>\n",
       "      <td>0.702710</td>\n",
       "      <td>0.628686</td>\n",
       "      <td>0.432693</td>\n",
       "      <td>-2.055102</td>\n",
       "      <td>-7.724634</td>\n",
       "      <td>15.338214</td>\n",
       "    </tr>\n",
       "    <tr>\n",
       "      <th>0.05</th>\n",
       "      <td>-35.727572</td>\n",
       "      <td>0.573729</td>\n",
       "      <td>0.622597</td>\n",
       "      <td>0.345826</td>\n",
       "      <td>-2.489922</td>\n",
       "      <td>-7.335068</td>\n",
       "      <td>14.244152</td>\n",
       "    </tr>\n",
       "    <tr>\n",
       "      <th>0.1</th>\n",
       "      <td>-94.570417</td>\n",
       "      <td>-0.065642</td>\n",
       "      <td>0.537453</td>\n",
       "      <td>0.344772</td>\n",
       "      <td>-3.178687</td>\n",
       "      <td>-19.386504</td>\n",
       "      <td>37.616212</td>\n",
       "    </tr>\n",
       "    <tr>\n",
       "      <th>0.2</th>\n",
       "      <td>-469.724031</td>\n",
       "      <td>-2.500113</td>\n",
       "      <td>0.448572</td>\n",
       "      <td>0.151614</td>\n",
       "      <td>-5.058704</td>\n",
       "      <td>-95.336532</td>\n",
       "      <td>187.204412</td>\n",
       "    </tr>\n",
       "    <tr>\n",
       "      <th>0.5</th>\n",
       "      <td>-1511.669868</td>\n",
       "      <td>-14.569639</td>\n",
       "      <td>-0.105680</td>\n",
       "      <td>-0.756521</td>\n",
       "      <td>-6.167944</td>\n",
       "      <td>-306.653930</td>\n",
       "      <td>602.530253</td>\n",
       "    </tr>\n",
       "    <tr>\n",
       "      <th>0.8</th>\n",
       "      <td>-1511.669868</td>\n",
       "      <td>-14.569639</td>\n",
       "      <td>-0.246827</td>\n",
       "      <td>-0.658656</td>\n",
       "      <td>-6.167944</td>\n",
       "      <td>-306.662587</td>\n",
       "      <td>602.525832</td>\n",
       "    </tr>\n",
       "    <tr>\n",
       "      <th>1</th>\n",
       "      <td>-1511.669868</td>\n",
       "      <td>-14.569639</td>\n",
       "      <td>-0.246827</td>\n",
       "      <td>-0.658656</td>\n",
       "      <td>-6.167944</td>\n",
       "      <td>-306.662587</td>\n",
       "      <td>602.525832</td>\n",
       "    </tr>\n",
       "    <tr>\n",
       "      <th>5</th>\n",
       "      <td>-1511.669868</td>\n",
       "      <td>-14.569639</td>\n",
       "      <td>-0.246827</td>\n",
       "      <td>-0.658656</td>\n",
       "      <td>-6.167944</td>\n",
       "      <td>-306.662587</td>\n",
       "      <td>602.525832</td>\n",
       "    </tr>\n",
       "    <tr>\n",
       "      <th>10</th>\n",
       "      <td>-1511.669868</td>\n",
       "      <td>-14.569639</td>\n",
       "      <td>-0.246827</td>\n",
       "      <td>-0.658656</td>\n",
       "      <td>-6.167944</td>\n",
       "      <td>-306.662587</td>\n",
       "      <td>602.525832</td>\n",
       "    </tr>\n",
       "  </tbody>\n",
       "</table>\n",
       "</div>"
      ],
      "text/plain": [
       "           score1     score2    score3    score4     score5        mean  \\\n",
       "0     -100.003005   0.606151  0.408133  0.318791 -17.325170  -23.199020   \n",
       "0.01   -38.332157   0.702710  0.628686  0.432693  -2.055102   -7.724634   \n",
       "0.05   -35.727572   0.573729  0.622597  0.345826  -2.489922   -7.335068   \n",
       "0.1    -94.570417  -0.065642  0.537453  0.344772  -3.178687  -19.386504   \n",
       "0.2   -469.724031  -2.500113  0.448572  0.151614  -5.058704  -95.336532   \n",
       "0.5  -1511.669868 -14.569639 -0.105680 -0.756521  -6.167944 -306.653930   \n",
       "0.8  -1511.669868 -14.569639 -0.246827 -0.658656  -6.167944 -306.662587   \n",
       "1    -1511.669868 -14.569639 -0.246827 -0.658656  -6.167944 -306.662587   \n",
       "5    -1511.669868 -14.569639 -0.246827 -0.658656  -6.167944 -306.662587   \n",
       "10   -1511.669868 -14.569639 -0.246827 -0.658656  -6.167944 -306.662587   \n",
       "\n",
       "             std  \n",
       "0      39.013909  \n",
       "0.01   15.338214  \n",
       "0.05   14.244152  \n",
       "0.1    37.616212  \n",
       "0.2   187.204412  \n",
       "0.5   602.530253  \n",
       "0.8   602.525832  \n",
       "1     602.525832  \n",
       "5     602.525832  \n",
       "10    602.525832  "
      ]
     },
     "metadata": {},
     "output_type": "display_data"
    },
    {
     "name": "stdout",
     "output_type": "stream",
     "text": [
      "best lambda:  0.05  with cross validation score:  -7.335068229615311\n"
     ]
    },
    {
     "data": {
      "text/plain": [
       "Text(0.5, 1.0, 'Lasso Regression Cross Validation Scores')"
      ]
     },
     "execution_count": 8,
     "metadata": {},
     "output_type": "execute_result"
    },
    {
     "data": {
      "image/png": "[encoded data removed]",
      "text/plain": [
       "<Figure size 640x480 with 1 Axes>"
      ]
     },
     "metadata": {},
     "output_type": "display_data"
    }
   ],
   "source": [
    "n = 5\n",
    "\n",
    "scores_cross_validation = pd.DataFrame(columns=['score{}'.format(i) for i in range(1,n+1)])\n",
    "\n",
    "for l in lambdas:\n",
    "   lasso = Lasso(alpha=l)\n",
    "   fit = cross_val_score(lasso, X_std, y, cv=n)\n",
    "   scores_cross_validation.loc[str(l)] = fit\n",
    "scores_cross_validation[\"mean\"] = scores_cross_validation.mean(axis=1)\n",
    "scores_cross_validation['std'] = scores_cross_validation.std(axis=1)\n",
    "display(scores_cross_validation)\n",
    "\n",
    "\n",
    "best_alpha = scores_cross_validation[\"mean\"].idxmax()\n",
    "print(\"best lambda: \",best_alpha,\" with cross validation score: \",scores_cross_validation.loc[best_alpha,\"mean\"])\n",
    "scores_cross_validation.drop([\"mean\",\"std\"],axis=1,inplace=True)\n",
    "scores_cross_validation.T.boxplot().set_title(\"Lasso Regression Cross Validation Scores\")\n"
   ]
  },
  {
   "cell_type": "code",
   "execution_count": null,
   "id": "a58a192a",
   "metadata": {},
   "outputs": [],
   "source": []
  }
 ],
 "metadata": {
  "kernelspec": {
   "display_name": "Python 3 (ipykernel)",
   "language": "python",
   "name": "python3"
  },
  "language_info": {
   "codemirror_mode": {
    "name": "ipython",
    "version": 3
   },
   "file_extension": ".py",
   "mimetype": "text/x-python",
   "name": "python",
   "nbconvert_exporter": "python",
   "pygments_lexer": "ipython3",
   "version": "3.11.4"
  }
 },
 "nbformat": 4,
 "nbformat_minor": 5
}
